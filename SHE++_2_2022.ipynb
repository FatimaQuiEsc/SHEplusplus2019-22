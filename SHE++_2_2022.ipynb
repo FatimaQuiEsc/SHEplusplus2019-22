{
  "nbformat": 4,
  "nbformat_minor": 0,
  "metadata": {
    "colab": {
      "provenance": [],
      "authorship_tag": "ABX9TyPraQiWKeB62V30mgKKf8mc",
      "include_colab_link": true
    },
    "kernelspec": {
      "name": "python3",
      "display_name": "Python 3"
    },
    "language_info": {
      "name": "python"
    }
  },
  "cells": [
    {
      "cell_type": "markdown",
      "metadata": {
        "id": "view-in-github",
        "colab_type": "text"
      },
      "source": [
        "<a href=\"https://colab.research.google.com/github/FatimaQuiEsc/SHEplusplus2019-22/blob/main/SHE%2B%2B_2_2022.ipynb\" target=\"_parent\"><img src=\"https://colab.research.google.com/assets/colab-badge.svg\" alt=\"Open In Colab\"/></a>"
      ]
    },
    {
      "cell_type": "code",
      "execution_count": null,
      "metadata": {
        "id": "xzUol-GQIbfz"
      },
      "outputs": [],
      "source": [
        "import glob as glob\n",
        "import numpy as np\n",
        "import copy\n",
        "import matplotlib.pyplot as plt\n",
        "import h5py\n",
        "import scipy\n",
        "from PIL import Image\n",
        "from scipy import ndimage\n",
        "\n",
        "%matplotlib inline"
      ]
    },
    {
      "cell_type": "code",
      "source": [],
      "metadata": {
        "id": "eTQpoWoNIoKJ"
      },
      "execution_count": null,
      "outputs": []
    },
    {
      "cell_type": "code",
      "source": [
        "from google.colab import drive\n",
        "drive.mount('/content/drive')"
      ],
      "metadata": {
        "colab": {
          "base_uri": "https://localhost:8080/"
        },
        "id": "wUpohzNwKS2D",
        "outputId": "a5bf9393-4baf-4e56-8d09-681def3523d9"
      },
      "execution_count": null,
      "outputs": [
        {
          "output_type": "stream",
          "name": "stdout",
          "text": [
            "Mounted at /content/drive\n"
          ]
        }
      ]
    },
    {
      "cell_type": "code",
      "source": [
        "#Los datos corresponden a un dataset cats vs dogs de https://www.kaggle.com/c/dogs-vs-cats\n",
        "files=glob.glob('/content/drive/MyDrive/SHE++ 2022/train/*')"
      ],
      "metadata": {
        "id": "xa6b-6v5Kquh"
      },
      "execution_count": null,
      "outputs": []
    },
    {
      "cell_type": "code",
      "source": [
        "len(files)"
      ],
      "metadata": {
        "colab": {
          "base_uri": "https://localhost:8080/"
        },
        "id": "RFwB__kpLv9o",
        "outputId": "94136570-3201-429c-dc13-6b3c1b522c20"
      },
      "execution_count": null,
      "outputs": [
        {
          "output_type": "execute_result",
          "data": {
            "text/plain": [
              "4340"
            ]
          },
          "metadata": {},
          "execution_count": 7
        }
      ]
    },
    {
      "cell_type": "code",
      "source": [
        "#numero de pixeles para nuestras imágenes. \n",
        "num_px=64"
      ],
      "metadata": {
        "id": "Vr-PTGkFXiZY"
      },
      "execution_count": null,
      "outputs": []
    },
    {
      "cell_type": "code",
      "source": [
        "train_x=[]\n",
        "train_y=[]\n",
        "for file in files[0:100]:\n",
        "    img=Image.open(file)\n",
        "    img=img.resize((num_px,num_px)) #se genera un arreglo de num_px de lado\n",
        "    data=np.asarray(img)\n",
        "    train_x.append(data)\n",
        "    img.close()\n",
        "    if 'dog' in file:\n",
        "        train_y.append(1)\n",
        "    if 'cat' in file: \n",
        "        train_y.append(0)\n",
        "train_y=np.asarray(train_y)\n",
        "train_x=np.asarray(train_x)\n",
        "#Se asigana un valor al arreglo"
      ],
      "metadata": {
        "id": "Zzz1TVzqVifH"
      },
      "execution_count": null,
      "outputs": []
    },
    {
      "cell_type": "code",
      "source": [
        "test_x=[]\n",
        "test_y=[]\n",
        "for file in files[4300:]:\n",
        "    #print(file)\n",
        "    img=Image.open(file)\n",
        "    img=img.resize((num_px,num_px))\n",
        "    data=np.asarray(img)\n",
        "    test_x.append(data)\n",
        "    img.close()\n",
        "    if 'dog' in file:\n",
        "        test_y.append(1)\n",
        "    if 'cat' in file: \n",
        "        test_y.append(0)\n",
        "test_y=np.asarray(test_y)\n",
        "test_x=np.asarray(test_x)"
      ],
      "metadata": {
        "id": "SrRXnBlda3fP"
      },
      "execution_count": null,
      "outputs": []
    },
    {
      "cell_type": "code",
      "source": [
        "plt.imshow(train_x[0])"
      ],
      "metadata": {
        "colab": {
          "base_uri": "https://localhost:8080/",
          "height": 286
        },
        "id": "PbeSlNG6Xsk8",
        "outputId": "4ace8645-e933-4d43-de63-f8411a20ff1a"
      },
      "execution_count": null,
      "outputs": [
        {
          "output_type": "execute_result",
          "data": {
            "text/plain": [
              "<matplotlib.image.AxesImage at 0x7fe2216d0e90>"
            ]
          },
          "metadata": {},
          "execution_count": 24
        },
        {
          "output_type": "display_data",
          "data": {
            "text/plain": [
              "<Figure size 432x288 with 1 Axes>"
            ],
            "image/png": "[encoded data removed]"
          },
          "metadata": {
            "needs_background": "light"
          }
        }
      ]
    },
    {
      "cell_type": "code",
      "source": [
        "np.shape(train_x)"
      ],
      "metadata": {
        "colab": {
          "base_uri": "https://localhost:8080/"
        },
        "id": "TYBu-JP3ZhBM",
        "outputId": "940ccfb7-b017-4c99-864a-7d7beeca0b1b"
      },
      "execution_count": null,
      "outputs": [
        {
          "output_type": "execute_result",
          "data": {
            "text/plain": [
              "(100, 64, 64, 3)"
            ]
          },
          "metadata": {},
          "execution_count": 20
        }
      ]
    },
    {
      "cell_type": "code",
      "source": [
        "plt.imshow(test_x[1])"
      ],
      "metadata": {
        "colab": {
          "base_uri": "https://localhost:8080/",
          "height": 286
        },
        "id": "aS3gAuYxZ1WY",
        "outputId": "111b2f5a-2b73-45bf-e0d5-c55a52d11cd4"
      },
      "execution_count": null,
      "outputs": [
        {
          "output_type": "execute_result",
          "data": {
            "text/plain": [
              "<matplotlib.image.AxesImage at 0x7fe221648650>"
            ]
          },
          "metadata": {},
          "execution_count": 25
        },
        {
          "output_type": "display_data",
          "data": {
            "text/plain": [
              "<Figure size 432x288 with 1 Axes>"
            ],
            "image/png": "[encoded data removed]"
          },
          "metadata": {
            "needs_background": "light"
          }
        }
      ]
    },
    {
      "cell_type": "markdown",
      "source": [
        "Hacemos una transformación de los arreglos que contienen la imágen para que sean arreglos de una dimensión. "
      ],
      "metadata": {
        "id": "JTrOe-91RjgN"
      }
    },
    {
      "cell_type": "code",
      "source": [
        "train_x_flatten = train_x.reshape(train_x.shape[0], -1).T\n",
        "\n",
        "test_x_flatten = test_x.reshape(test_x.shape[0], -1).T\n",
        "\n",
        "train_set_y=train_y.reshape((1,train_y.shape[0]))\n",
        "test_set_y=test_y.reshape((1,test_y.shape[0]))"
      ],
      "metadata": {
        "id": "vPiJd5HVMIWF"
      },
      "execution_count": null,
      "outputs": []
    },
    {
      "cell_type": "code",
      "source": [
        "train_set_x= train_x_flatten/255\n",
        "test_set_x= test_x_flatten/255"
      ],
      "metadata": {
        "id": "SbT7nhYIj0Zh"
      },
      "execution_count": null,
      "outputs": []
    },
    {
      "cell_type": "code",
      "source": [
        "#Función de activación. Sigmpide \n",
        "def sigmoid(z):\n",
        "  s=1./(1+np.exp(-z))\n",
        "  return s"
      ],
      "metadata": {
        "id": "T8HsQ-gtZgpY"
      },
      "execution_count": null,
      "outputs": []
    },
    {
      "cell_type": "code",
      "source": [
        "z=np.linspace(-10,10,10)\n",
        "plt.plot(z, sigmoid(z))"
      ],
      "metadata": {
        "colab": {
          "base_uri": "https://localhost:8080/",
          "height": 283
        },
        "id": "QtqXlUf4bwiQ",
        "outputId": "7cea49e2-003c-4520-8333-98295af6d0fb"
      },
      "execution_count": null,
      "outputs": [
        {
          "output_type": "execute_result",
          "data": {
            "text/plain": [
              "[<matplotlib.lines.Line2D at 0x7fe221049350>]"
            ]
          },
          "metadata": {},
          "execution_count": 48
        },
        {
          "output_type": "display_data",
          "data": {
            "text/plain": [
              "<Figure size 432x288 with 1 Axes>"
            ],
            "image/png": "[encoded data removed]"
          },
          "metadata": {
            "needs_background": "light"
          }
        }
      ]
    },
    {
      "cell_type": "code",
      "source": [
        "#Inicializamos los pesos y los sesgos a cero. \n",
        "def initialize_with_zeros(dim):\n",
        "    w=np.zeros((dim,1))\n",
        "    b=0.\n",
        "    return w, b\n"
      ],
      "metadata": {
        "id": "ZOf1nLYjXahK"
      },
      "execution_count": null,
      "outputs": []
    },
    {
      "cell_type": "code",
      "source": [
        "#Calculamos nuestra función de activación, función de costo y las derivadas, dw y db\n",
        "def propagate(w, b, X, Y):\n",
        "    m = X.shape[1]\n",
        "    A = sigmoid(np.dot(w.T,X)+b)\n",
        "    cost = -(1./m)*np.sum(Y*np.log(A)+(1-Y)*np.log(1-A))\n",
        "    #Quita la estructura para dejarlo como un numero\n",
        "    dw = (1/m)* np.dot(X,(A-Y).T)\n",
        "    db = (1/m)* np.sum(A-Y)\n",
        "    cost = np.squeeze(np.array(cost))\n",
        "    #\n",
        "    grads = {\"dw\": dw,\n",
        "             \"db\": db}\n",
        "    return grads, cost"
      ],
      "metadata": {
        "id": "yoFLDo2peGi_"
      },
      "execution_count": null,
      "outputs": []
    },
    {
      "cell_type": "code",
      "source": [
        "#Realizamos la optimización de nuestra red. \n",
        "\n",
        "def optimize(w, b, X, Y, num_iterations=100, learning_rate=0.009, print_cost=False):\n",
        "\n",
        "    \n",
        "    w = copy.deepcopy(w)\n",
        "    b = copy.deepcopy(b)\n",
        "    \n",
        "    costs = []\n",
        "    \n",
        "    #Calculo de gradientes \n",
        "    for i in range(num_iterations):\n",
        "        grads, cost = propagate(w, b, X, Y)\n",
        "        dw = grads[\"dw\"]\n",
        "        db = grads[\"db\"]\n",
        "        w=w-learning_rate*dw\n",
        "        b=b-learning_rate*db\n",
        "        \n",
        "        #Modulo, division entera \n",
        "        if i % 100 == 0:\n",
        "            costs.append(cost)\n",
        "            if print_cost:\n",
        "                print (\"Cost after iteration %i: %f\" %(i, cost))\n",
        "    \n",
        "    params = {\"w\": w,\n",
        "              \"b\": b}\n",
        "    \n",
        "    grads = {\"dw\": dw,\n",
        "             \"db\": db}\n",
        "    \n",
        "    return params, grads, costs"
      ],
      "metadata": {
        "id": "ltnYgSQmedpa"
      },
      "execution_count": null,
      "outputs": []
    },
    {
      "cell_type": "code",
      "source": [
        "#Calculamos la predicción que hace nuestra función\n",
        "def predict(w, b, X):\n",
        "    m = X.shape[1]\n",
        "    Y_prediction = np.zeros((1, m))\n",
        "    w = w.reshape(X.shape[0], 1)\n",
        "    \n",
        "    A = sigmoid(np.dot(w.T,X)+b)\n",
        "     \n",
        "    for i in range(A.shape[1]):\n",
        "        if A[0,i]>0.5:\n",
        "            Y_prediction[0,i] = int(1)\n",
        "        else:\n",
        "            Y_prediction[0,i] = int(0)\n",
        "    \n",
        "    return Y_prediction"
      ],
      "metadata": {
        "id": "qNFzAKm4gWY8"
      },
      "execution_count": null,
      "outputs": []
    },
    {
      "cell_type": "code",
      "source": [
        "#Ponemos todo junto en nuestro modelo \n",
        "# GRADED FUNCTION: model\n",
        "\n",
        "def model(X_train, Y_train, X_test, Y_test, num_iterations=2000, learning_rate=0.5, print_cost=False):  \n",
        "    w,b=initialize_with_zeros(X_train.shape[0])\n",
        "    params, grads, costs = optimize(w, b, X_train, Y_train, num_iterations=num_iterations, learning_rate=learning_rate, print_cost=print_cost)\n",
        "    w=params[\"w\"]\n",
        "    b=params[\"b\"]\n",
        "    \n",
        "    Y_prediction_test = predict(w,b,X_test)\n",
        "    Y_prediction_train = predict(w,b,X_train)\n",
        "    if print_cost:\n",
        "        print(\"train accuracy: {} %\".format(100 - np.mean(np.abs(Y_prediction_train - Y_train)) * 100))\n",
        "        print(\"test accuracy: {} %\".format(100 - np.mean(np.abs(Y_prediction_test - Y_test)) * 100))\n",
        "        \n",
        "    d = {\"costs\": costs,\n",
        "         \"Y_prediction_test\": Y_prediction_test, \n",
        "         \"Y_prediction_train\" : Y_prediction_train, \n",
        "         \"w\" : w, \n",
        "         \"b\" : b,\n",
        "         \"learning_rate\" : learning_rate,\n",
        "         \"num_iterations\": num_iterations}\n",
        "    \n",
        "    return d"
      ],
      "metadata": {
        "id": "TkUNoDKCgqNa"
      },
      "execution_count": null,
      "outputs": []
    },
    {
      "cell_type": "code",
      "source": [
        "logistic_regression_model = model(train_set_x, train_set_y, test_set_x, test_set_y, num_iterations=4000, learning_rate=0.01, print_cost=True)"
      ],
      "metadata": {
        "colab": {
          "base_uri": "https://localhost:8080/"
        },
        "id": "TzaH2ToJh2BO",
        "outputId": "5f6e9f39-9985-4481-ca8a-cbbb7a69482d"
      },
      "execution_count": null,
      "outputs": [
        {
          "output_type": "stream",
          "name": "stdout",
          "text": [
            "Cost after iteration 0: 0.693147\n",
            "Cost after iteration 100: 1.427346\n",
            "Cost after iteration 200: 0.987371\n",
            "Cost after iteration 300: 0.160595\n",
            "Cost after iteration 400: 0.091825\n",
            "Cost after iteration 500: 0.076458\n",
            "Cost after iteration 600: 0.066472\n",
            "Cost after iteration 700: 0.059175\n",
            "Cost after iteration 800: 0.053490\n",
            "Cost after iteration 900: 0.048882\n",
            "Cost after iteration 1000: 0.045046\n",
            "Cost after iteration 1100: 0.041788\n",
            "Cost after iteration 1200: 0.038982\n",
            "Cost after iteration 1300: 0.036535\n",
            "Cost after iteration 1400: 0.034380\n",
            "Cost after iteration 1500: 0.032467\n",
            "Cost after iteration 1600: 0.030757\n",
            "Cost after iteration 1700: 0.029218\n",
            "Cost after iteration 1800: 0.027826\n",
            "Cost after iteration 1900: 0.026560\n",
            "Cost after iteration 2000: 0.025404\n",
            "Cost after iteration 2100: 0.024345\n",
            "Cost after iteration 2200: 0.023370\n",
            "Cost after iteration 2300: 0.022469\n",
            "Cost after iteration 2400: 0.021636\n",
            "Cost after iteration 2500: 0.020861\n",
            "Cost after iteration 2600: 0.020140\n",
            "Cost after iteration 2700: 0.019467\n",
            "Cost after iteration 2800: 0.018837\n",
            "Cost after iteration 2900: 0.018247\n",
            "Cost after iteration 3000: 0.017692\n",
            "Cost after iteration 3100: 0.017169\n",
            "Cost after iteration 3200: 0.016677\n",
            "Cost after iteration 3300: 0.016212\n",
            "Cost after iteration 3400: 0.015772\n",
            "Cost after iteration 3500: 0.015355\n",
            "Cost after iteration 3600: 0.014959\n",
            "Cost after iteration 3700: 0.014583\n",
            "Cost after iteration 3800: 0.014226\n",
            "Cost after iteration 3900: 0.013885\n",
            "train accuracy: 100.0 %\n",
            "test accuracy: 57.5 %\n"
          ]
        }
      ]
    },
    {
      "cell_type": "code",
      "source": [
        "index= 3\n",
        "plt.imshow(test_set_x[:, index].reshape((num_px, num_px, 3)))\n",
        "print (\"y = \" + str(test_set_y[0,index]) + \", you predicted that it is a \\\"\" + str(logistic_regression_model['Y_prediction_test'][0,index]))"
      ],
      "metadata": {
        "colab": {
          "base_uri": "https://localhost:8080/",
          "height": 286
        },
        "id": "-6GnF6P-lr73",
        "outputId": "6cf2dfa9-bfe8-4705-9b88-c8c3615c99c7"
      },
      "execution_count": null,
      "outputs": [
        {
          "output_type": "stream",
          "name": "stdout",
          "text": [
            "y = 1, you predicted that it is a \"1.0\n"
          ]
        },
        {
          "output_type": "display_data",
          "data": {
            "text/plain": [
              "<Figure size 432x288 with 1 Axes>"
            ],
            "image/png": "[encoded data removed]"
          },
          "metadata": {
            "needs_background": "light"
          }
        }
      ]
    }
  ]
}