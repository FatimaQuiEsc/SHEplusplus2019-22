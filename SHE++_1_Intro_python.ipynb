{
  "nbformat": 4,
  "nbformat_minor": 0,
  "metadata": {
    "colab": {
      "provenance": [],
      "authorship_tag": "ABX9TyMX/ouZgg4Zq+GNCB446X2B",
      "include_colab_link": true
    },
    "kernelspec": {
      "name": "python3",
      "display_name": "Python 3"
    },
    "language_info": {
      "name": "python"
    }
  },
  "cells": [
    {
      "cell_type": "markdown",
      "metadata": {
        "id": "view-in-github",
        "colab_type": "text"
      },
      "source": [
        "<a href=\"https://colab.research.google.com/github/FatimaQuiEsc/She-2022/blob/main/SHE%2B%2B_1_Intro_python.ipynb\" target=\"_parent\"><img src=\"https://colab.research.google.com/assets/colab-badge.svg\" alt=\"Open In Colab\"/></a>"
      ]
    },
    {
      "cell_type": "code",
      "source": [
        "import numpy as np\n",
        "import matplotlib.pyplot as plt"
      ],
      "metadata": {
        "id": "pDz8N8CJq1R7"
      },
      "execution_count": null,
      "outputs": []
    },
    {
      "cell_type": "code",
      "execution_count": null,
      "metadata": {
        "id": "eKMYt21glqdi"
      },
      "outputs": [],
      "source": [
        "def funtion1(arg1, arg2):\n",
        "  salida = arg1 + arg2\n",
        "  return salida"
      ]
    },
    {
      "cell_type": "code",
      "source": [
        "c2 = funtion1(2, 4)\n",
        "print(c2)"
      ],
      "metadata": {
        "colab": {
          "base_uri": "https://localhost:8080/"
        },
        "id": "Eymd5mzKpog0",
        "outputId": "61666d06-71ad-4854-fe89-114820d86e88"
      },
      "execution_count": null,
      "outputs": [
        {
          "output_type": "stream",
          "name": "stdout",
          "text": [
            "6\n"
          ]
        }
      ]
    },
    {
      "cell_type": "code",
      "source": [
        "def raizcuadratica(a, b, c):\n",
        "  if  a<=0:\n",
        "    return \"Error: a es negativo o 0\"\n",
        "  raiz1 = ((-b + np.sqrt(b*b -4*a*c))/(2*a))\n",
        "  raiz2 = ((-b - np.sqrt(b*b -4*a*c))/(2*a))\n",
        "  return raiz1, raiz2"
      ],
      "metadata": {
        "id": "unMwFTsJqXQb"
      },
      "execution_count": null,
      "outputs": []
    },
    {
      "cell_type": "code",
      "source": [
        "raizcuadratica(2, 9, 10)"
      ],
      "metadata": {
        "colab": {
          "base_uri": "https://localhost:8080/"
        },
        "id": "Jnyaa4OJr93S",
        "outputId": "23c3a1b9-6a2b-4b80-e819-a89be767647a"
      },
      "execution_count": null,
      "outputs": [
        {
          "output_type": "execute_result",
          "data": {
            "text/plain": [
              "(-2.0, -2.5)"
            ]
          },
          "metadata": {},
          "execution_count": 19
        }
      ]
    },
    {
      "cell_type": "code",
      "source": [
        "def potencia(x,exp):\n",
        "  if exp>0:\n",
        "    return x**exp\n",
        "  else:\n",
        "    return \"la potencia es positiva\""
      ],
      "metadata": {
        "id": "nqWarTxIr7Lg"
      },
      "execution_count": null,
      "outputs": []
    },
    {
      "cell_type": "code",
      "source": [
        "potencia(3, 2)"
      ],
      "metadata": {
        "colab": {
          "base_uri": "https://localhost:8080/"
        },
        "id": "HF_fTjCFtYoH",
        "outputId": "c77641f7-089d-47d5-b41c-6a5a5d50dd64"
      },
      "execution_count": null,
      "outputs": [
        {
          "output_type": "execute_result",
          "data": {
            "text/plain": [
              "9"
            ]
          },
          "metadata": {},
          "execution_count": 14
        }
      ]
    },
    {
      "cell_type": "code",
      "source": [
        "for pot in range(9):\n",
        "  print(potencia(3,pot))\n",
        "    "
      ],
      "metadata": {
        "colab": {
          "base_uri": "https://localhost:8080/"
        },
        "id": "oNdQ2PTbteJr",
        "outputId": "17b1d4cb-0f3a-49f6-964f-892b52a24165"
      },
      "execution_count": null,
      "outputs": [
        {
          "output_type": "stream",
          "name": "stdout",
          "text": [
            "la potencia es positiva\n",
            "3\n",
            "9\n",
            "27\n",
            "81\n",
            "243\n",
            "729\n",
            "2187\n",
            "6561\n"
          ]
        }
      ]
    },
    {
      "cell_type": "code",
      "source": [
        "for nombre in nombres:\n",
        "  if(nombre=='Alma') or (nombre=='Atalia'):\n",
        "    print(nombre + 'es tallerista')\n",
        "  else:\n",
        "    print(nombre + 'es un asistente de She++')"
      ],
      "metadata": {
        "colab": {
          "base_uri": "https://localhost:8080/",
          "height": 241
        },
        "id": "1lhdHlx9uV-e",
        "outputId": "6588402e-6980-4f5b-cffe-d575419c8213"
      },
      "execution_count": null,
      "outputs": [
        {
          "output_type": "error",
          "ename": "NameError",
          "evalue": "ignored",
          "traceback": [
            "\u001b[0;31m---------------------------------------------------------------------------\u001b[0m",
            "\u001b[0;31mNameError\u001b[0m                                 Traceback (most recent call last)",
            "\u001b[0;32m<ipython-input-31-30b7130cb026>\u001b[0m in \u001b[0;36m<module>\u001b[0;34m\u001b[0m\n\u001b[0;32m----> 1\u001b[0;31m \u001b[0;32mfor\u001b[0m \u001b[0mnombre\u001b[0m \u001b[0;32min\u001b[0m \u001b[0mnombres\u001b[0m\u001b[0;34m:\u001b[0m\u001b[0;34m\u001b[0m\u001b[0;34m\u001b[0m\u001b[0m\n\u001b[0m\u001b[1;32m      2\u001b[0m   \u001b[0;32mif\u001b[0m\u001b[0;34m(\u001b[0m\u001b[0mnombre\u001b[0m\u001b[0;34m==\u001b[0m\u001b[0;34m'Alma'\u001b[0m\u001b[0;34m)\u001b[0m \u001b[0;32mor\u001b[0m \u001b[0;34m(\u001b[0m\u001b[0mnombre\u001b[0m\u001b[0;34m==\u001b[0m\u001b[0;34m'Atalia'\u001b[0m\u001b[0;34m)\u001b[0m\u001b[0;34m:\u001b[0m\u001b[0;34m\u001b[0m\u001b[0;34m\u001b[0m\u001b[0m\n\u001b[1;32m      3\u001b[0m     \u001b[0mprint\u001b[0m\u001b[0;34m(\u001b[0m\u001b[0mnombre\u001b[0m \u001b[0;34m+\u001b[0m \u001b[0;34m'es tallerista'\u001b[0m\u001b[0;34m)\u001b[0m\u001b[0;34m\u001b[0m\u001b[0;34m\u001b[0m\u001b[0m\n\u001b[1;32m      4\u001b[0m   \u001b[0;32melse\u001b[0m\u001b[0;34m:\u001b[0m\u001b[0;34m\u001b[0m\u001b[0;34m\u001b[0m\u001b[0m\n\u001b[1;32m      5\u001b[0m     \u001b[0mprint\u001b[0m\u001b[0;34m(\u001b[0m\u001b[0mnombre\u001b[0m \u001b[0;34m+\u001b[0m \u001b[0;34m'es un asistente de She++'\u001b[0m\u001b[0;34m)\u001b[0m\u001b[0;34m\u001b[0m\u001b[0;34m\u001b[0m\u001b[0m\n",
            "\u001b[0;31mNameError\u001b[0m: name 'nombres' is not defined"
          ]
        }
      ]
    },
    {
      "cell_type": "code",
      "source": [
        "x_array = np.array([0,1,2,3,4,5])"
      ],
      "metadata": {
        "id": "QxOO9_jlvWkT"
      },
      "execution_count": null,
      "outputs": []
    },
    {
      "cell_type": "code",
      "source": [
        "xpot=np.zeros(len(x_array))\n",
        "for num,i in enumerate(x_array):\n",
        "    xpot[i]=potencia(num,2)"
      ],
      "metadata": {
        "id": "PIe1yboqwABX"
      },
      "execution_count": null,
      "outputs": []
    },
    {
      "cell_type": "code",
      "source": [
        "plt.plot(x_array,xpot)"
      ],
      "metadata": {
        "colab": {
          "base_uri": "https://localhost:8080/",
          "height": 283
        },
        "id": "3UGWie_AxfgS",
        "outputId": "e19e4083-f595-4b06-89c1-b6b111c66c63"
      },
      "execution_count": null,
      "outputs": [
        {
          "output_type": "execute_result",
          "data": {
            "text/plain": [
              "[<matplotlib.lines.Line2D at 0x7f93574a2110>]"
            ]
          },
          "metadata": {},
          "execution_count": 32
        },
        {
          "output_type": "display_data",
          "data": {
            "text/plain": [
              "<Figure size 432x288 with 1 Axes>"
            ],
            "image/png": "[encoded data removed]"
          },
          "metadata": {
            "needs_background": "light"
          }
        }
      ]
    },
    {
      "cell_type": "code",
      "source": [
        "x=np.arange(-2*np.pi,2*np.pi,0.2)\n",
        "y1=np.cos(x)\n",
        "y2=np.sin(x)\n",
        "plt.plot(x,y1,color='r',label='coseno')\n",
        "plt.plot(x,y2,'b',label='seno')\n",
        "plt.ylabel('x')\n",
        "plt.ylabel('y')\n",
        "plt.legend()"
      ],
      "metadata": {
        "colab": {
          "base_uri": "https://localhost:8080/",
          "height": 283
        },
        "id": "7XJDx1wGxqZI",
        "outputId": "63d6441e-b18f-429a-c262-588c3dcd2363"
      },
      "execution_count": null,
      "outputs": [
        {
          "output_type": "execute_result",
          "data": {
            "text/plain": [
              "<matplotlib.legend.Legend at 0x7f9356b5c8d0>"
            ]
          },
          "metadata": {},
          "execution_count": 35
        },
        {
          "output_type": "display_data",
          "data": {
            "text/plain": [
              "<Figure size 432x288 with 1 Axes>"
            ],
            "image/png": "[encoded data removed]"
          },
          "metadata": {
            "needs_background": "light"
          }
        }
      ]
    },
    {
      "cell_type": "code",
      "source": [],
      "metadata": {
        "id": "y7HJSsEO4Ad6"
      },
      "execution_count": null,
      "outputs": []
    },
    {
      "cell_type": "markdown",
      "source": [],
      "metadata": {
        "id": "H9x-ihzgtrgk"
      }
    }
  ]
}